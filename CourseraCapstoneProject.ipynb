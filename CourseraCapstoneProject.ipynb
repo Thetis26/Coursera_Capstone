{
 "cells": [
  {
   "cell_type": "markdown",
   "id": "sustained-bottom",
   "metadata": {},
   "source": [
    "# Coursera Capstone Project\n"
   ]
  },
  {
   "cell_type": "markdown",
   "id": "wooden-batman",
   "metadata": {},
   "source": [
    "This notebook will be used for the Coursera Capstone Project."
   ]
  },
  {
   "cell_type": "markdown",
   "id": "suitable-joshua",
   "metadata": {},
   "source": [
    "## Week 1"
   ]
  },
  {
   "cell_type": "markdown",
   "id": "numerous-lottery",
   "metadata": {},
   "source": [
    "The requirements for week one are as follows:\n",
    "<ol>\n",
    "    <li>Write some markdown to explain that this notebook will be mainly used for the capstone project.</li>\n",
    "    <li>Import the pandas library as pd.</li>\n",
    "    <li>Import the Numpy library as np.</li>\n",
    "    <li>Print the following the statement: Hello Capstone Project Course!</li>\n",
    "</ol>"
   ]
  },
  {
   "cell_type": "code",
   "execution_count": 1,
   "id": "greatest-military",
   "metadata": {},
   "outputs": [],
   "source": [
    "import pandas as pd\n",
    "import numpy as np"
   ]
  },
  {
   "cell_type": "code",
   "execution_count": 2,
   "id": "golden-detroit",
   "metadata": {},
   "outputs": [
    {
     "name": "stdout",
     "output_type": "stream",
     "text": [
      "Hello Capstone Project Course!\n"
     ]
    }
   ],
   "source": [
    "print(\"Hello Capstone Project Course!\")"
   ]
  },
  {
   "cell_type": "code",
   "execution_count": null,
   "id": "standard-mexican",
   "metadata": {},
   "outputs": [],
   "source": []
  }
 ],
 "metadata": {
  "kernelspec": {
   "display_name": "Python 3",
   "language": "python",
   "name": "python3"
  },
  "language_info": {
   "codemirror_mode": {
    "name": "ipython",
    "version": 3
   },
   "file_extension": ".py",
   "mimetype": "text/x-python",
   "name": "python",
   "nbconvert_exporter": "python",
   "pygments_lexer": "ipython3",
   "version": "3.9.1"
  }
 },
 "nbformat": 4,
 "nbformat_minor": 5
}
